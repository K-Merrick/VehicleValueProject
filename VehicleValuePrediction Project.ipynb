{
 "cells": [
  {
   "cell_type": "markdown",
   "metadata": {},
   "source": [
    "# Rusty Bargain - Vehicle Value Predictions\n",
    "\n",
    "Rusty Bargain is a used car service that is developing an application to attract new customers. The purpose of the application is to allow individuals to quickly find out the market value of their car. For this project, we have access to historical data, including the technical specifications of various vehicles, trim versions, and vehicle prices. Our goal is to build a machine learning model that predicts the value of a vehicle. Rust Bargain is particularly interested in a model that can be quickly trained, produces accurate results, and is quick when making predictions."
   ]
  },
  {
   "cell_type": "markdown",
   "metadata": {},
   "source": [
    "## Import Libraries and Preprocess the Data"
   ]
  },
  {
   "cell_type": "markdown",
   "metadata": {},
   "source": [
    "### Import Libraries"
   ]
  },
  {
   "cell_type": "code",
   "execution_count": 1,
   "metadata": {},
   "outputs": [],
   "source": [
    "import numpy as np\n",
    "import pandas as pd\n",
    "import seaborn as sns\n",
    "from matplotlib import pyplot as plt\n",
    "from scipy import stats as st\n",
    "from sklearn.model_selection import train_test_split\n",
    "from sklearn.metrics import make_scorer\n",
    "from sklearn.metrics import mean_squared_error\n",
    "from imblearn.pipeline import Pipeline\n",
    "from sklearn.model_selection import GridSearchCV\n",
    "from sklearn.model_selection import train_test_split\n",
    "from sklearn.linear_model import LinearRegression\n",
    "from sklearn.linear_model import SGDRegressor\n",
    "from sklearn.tree import DecisionTreeRegressor\n",
    "from sklearn.ensemble import RandomForestRegressor\n",
    "from sklearn.preprocessing import StandardScaler\n",
    "from sklearn.preprocessing import MinMaxScaler\n",
    "from lightgbm import LGBMRegressor\n",
    "from catboost import CatBoostRegressor\n",
    "from xgboost import XGBRegressor\n",
    "import math\n",
    "import time\n",
    "import warnings\n",
    "warnings.filterwarnings('ignore')"
   ]
  },
  {
   "cell_type": "markdown",
   "metadata": {},
   "source": [
    "### Import Data"
   ]
  },
  {
   "cell_type": "code",
   "execution_count": 2,
   "metadata": {},
   "outputs": [],
   "source": [
    "try:\n",
    "    cars = pd.read_csv('/car_data.csv')\n",
    "except:\n",
    "    cars = pd.read_csv('https://code.s3.yandex.net/datasets/car_data.csv')"
   ]
  },
  {
   "cell_type": "markdown",
   "metadata": {},
   "source": [
    "### Preprocess the Data"
   ]
  },
  {
   "cell_type": "markdown",
   "metadata": {},
   "source": [
    "#### Format Column Names"
   ]
  },
  {
   "cell_type": "code",
   "execution_count": 3,
   "metadata": {},
   "outputs": [],
   "source": [
    "#Make all columns lowercase.\n",
    "cars.columns = cars.columns.str.lower()"
   ]
  },
  {
   "cell_type": "markdown",
   "metadata": {},
   "source": [
    "#### Inspect Data"
   ]
  },
  {
   "cell_type": "code",
   "execution_count": 4,
   "metadata": {},
   "outputs": [
    {
     "name": "stdout",
     "output_type": "stream",
     "text": [
      "Description of numerical variables:\n"
     ]
    },
    {
     "data": {
      "text/html": [
       "<div>\n",
       "<style scoped>\n",
       "    .dataframe tbody tr th:only-of-type {\n",
       "        vertical-align: middle;\n",
       "    }\n",
       "\n",
       "    .dataframe tbody tr th {\n",
       "        vertical-align: top;\n",
       "    }\n",
       "\n",
       "    .dataframe thead th {\n",
       "        text-align: right;\n",
       "    }\n",
       "</style>\n",
       "<table border=\"1\" class=\"dataframe\">\n",
       "  <thead>\n",
       "    <tr style=\"text-align: right;\">\n",
       "      <th></th>\n",
       "      <th>price</th>\n",
       "      <th>registrationyear</th>\n",
       "      <th>power</th>\n",
       "      <th>mileage</th>\n",
       "      <th>registrationmonth</th>\n",
       "      <th>numberofpictures</th>\n",
       "      <th>postalcode</th>\n",
       "    </tr>\n",
       "  </thead>\n",
       "  <tbody>\n",
       "    <tr>\n",
       "      <th>count</th>\n",
       "      <td>354369.000000</td>\n",
       "      <td>354369.000000</td>\n",
       "      <td>354369.000000</td>\n",
       "      <td>354369.000000</td>\n",
       "      <td>354369.000000</td>\n",
       "      <td>354369.0</td>\n",
       "      <td>354369.000000</td>\n",
       "    </tr>\n",
       "    <tr>\n",
       "      <th>mean</th>\n",
       "      <td>4416.656776</td>\n",
       "      <td>2004.234448</td>\n",
       "      <td>110.094337</td>\n",
       "      <td>128211.172535</td>\n",
       "      <td>5.714645</td>\n",
       "      <td>0.0</td>\n",
       "      <td>50508.689087</td>\n",
       "    </tr>\n",
       "    <tr>\n",
       "      <th>std</th>\n",
       "      <td>4514.158514</td>\n",
       "      <td>90.227958</td>\n",
       "      <td>189.850405</td>\n",
       "      <td>37905.341530</td>\n",
       "      <td>3.726421</td>\n",
       "      <td>0.0</td>\n",
       "      <td>25783.096248</td>\n",
       "    </tr>\n",
       "    <tr>\n",
       "      <th>min</th>\n",
       "      <td>0.000000</td>\n",
       "      <td>1000.000000</td>\n",
       "      <td>0.000000</td>\n",
       "      <td>5000.000000</td>\n",
       "      <td>0.000000</td>\n",
       "      <td>0.0</td>\n",
       "      <td>1067.000000</td>\n",
       "    </tr>\n",
       "    <tr>\n",
       "      <th>25%</th>\n",
       "      <td>1050.000000</td>\n",
       "      <td>1999.000000</td>\n",
       "      <td>69.000000</td>\n",
       "      <td>125000.000000</td>\n",
       "      <td>3.000000</td>\n",
       "      <td>0.0</td>\n",
       "      <td>30165.000000</td>\n",
       "    </tr>\n",
       "    <tr>\n",
       "      <th>50%</th>\n",
       "      <td>2700.000000</td>\n",
       "      <td>2003.000000</td>\n",
       "      <td>105.000000</td>\n",
       "      <td>150000.000000</td>\n",
       "      <td>6.000000</td>\n",
       "      <td>0.0</td>\n",
       "      <td>49413.000000</td>\n",
       "    </tr>\n",
       "    <tr>\n",
       "      <th>75%</th>\n",
       "      <td>6400.000000</td>\n",
       "      <td>2008.000000</td>\n",
       "      <td>143.000000</td>\n",
       "      <td>150000.000000</td>\n",
       "      <td>9.000000</td>\n",
       "      <td>0.0</td>\n",
       "      <td>71083.000000</td>\n",
       "    </tr>\n",
       "    <tr>\n",
       "      <th>max</th>\n",
       "      <td>20000.000000</td>\n",
       "      <td>9999.000000</td>\n",
       "      <td>20000.000000</td>\n",
       "      <td>150000.000000</td>\n",
       "      <td>12.000000</td>\n",
       "      <td>0.0</td>\n",
       "      <td>99998.000000</td>\n",
       "    </tr>\n",
       "  </tbody>\n",
       "</table>\n",
       "</div>"
      ],
      "text/plain": [
       "               price  registrationyear          power        mileage  \\\n",
       "count  354369.000000     354369.000000  354369.000000  354369.000000   \n",
       "mean     4416.656776       2004.234448     110.094337  128211.172535   \n",
       "std      4514.158514         90.227958     189.850405   37905.341530   \n",
       "min         0.000000       1000.000000       0.000000    5000.000000   \n",
       "25%      1050.000000       1999.000000      69.000000  125000.000000   \n",
       "50%      2700.000000       2003.000000     105.000000  150000.000000   \n",
       "75%      6400.000000       2008.000000     143.000000  150000.000000   \n",
       "max     20000.000000       9999.000000   20000.000000  150000.000000   \n",
       "\n",
       "       registrationmonth  numberofpictures     postalcode  \n",
       "count      354369.000000          354369.0  354369.000000  \n",
       "mean            5.714645               0.0   50508.689087  \n",
       "std             3.726421               0.0   25783.096248  \n",
       "min             0.000000               0.0    1067.000000  \n",
       "25%             3.000000               0.0   30165.000000  \n",
       "50%             6.000000               0.0   49413.000000  \n",
       "75%             9.000000               0.0   71083.000000  \n",
       "max            12.000000               0.0   99998.000000  "
      ]
     },
     "metadata": {},
     "output_type": "display_data"
    }
   ],
   "source": [
    "#Print description of numerical variables.\n",
    "print('Description of numerical variables:')\n",
    "display(cars.describe())"
   ]
  },
  {
   "cell_type": "markdown",
   "metadata": {},
   "source": [
    "1.3.2 Notes: From the above DataFrame description, a few key things stand out:\n",
    "        \n",
    "    1) price - There appear to be cars listed as valued at 0. While this may indicate that there was an error in inputting the vehicles' prices, it may also be that the vehicles are in such poor condition that they are practically worthless. We will deal with these values in a subsequent section.\n",
    "    \n",
    "    2) registrationyear - There are clear invalid values in this column. For example, the minimum registration year is 1000 and the maximum is 9999. Obviously these are incorrect and must be dealt with.\n",
    "    \n",
    "    3) power - The average vehicle horsepower is between 180 and 200. As such, the max value of 20,000 appears incorrect. The minimum value of 0 may indicate that a vehicle no longer functions, or may represent an error in the data.\n",
    "    \n",
    "    4) mileage - It appears that the average mileage of a vehicle in the dataset is 150,000. This is also the max value in the dataset. We believe that Rusty Bargain's system may simply set 150,000 as the upper bound and use this value for any vehicle that is reported as having a higher mileage.\n",
    "    \n",
    "    5) numberofpictures & postalcode - These both appear to be irrelevant features with regard to building our model; as such, they will be removed."
   ]
  },
  {
   "cell_type": "code",
   "execution_count": 5,
   "metadata": {},
   "outputs": [
    {
     "name": "stdout",
     "output_type": "stream",
     "text": [
      "Information for Cars DataFrame:\n",
      "\n",
      "<class 'pandas.core.frame.DataFrame'>\n",
      "RangeIndex: 354369 entries, 0 to 354368\n",
      "Data columns (total 16 columns):\n",
      " #   Column             Non-Null Count   Dtype \n",
      "---  ------             --------------   ----- \n",
      " 0   datecrawled        354369 non-null  object\n",
      " 1   price              354369 non-null  int64 \n",
      " 2   vehicletype        316879 non-null  object\n",
      " 3   registrationyear   354369 non-null  int64 \n",
      " 4   gearbox            334536 non-null  object\n",
      " 5   power              354369 non-null  int64 \n",
      " 6   model              334664 non-null  object\n",
      " 7   mileage            354369 non-null  int64 \n",
      " 8   registrationmonth  354369 non-null  int64 \n",
      " 9   fueltype           321474 non-null  object\n",
      " 10  brand              354369 non-null  object\n",
      " 11  notrepaired        283215 non-null  object\n",
      " 12  datecreated        354369 non-null  object\n",
      " 13  numberofpictures   354369 non-null  int64 \n",
      " 14  postalcode         354369 non-null  int64 \n",
      " 15  lastseen           354369 non-null  object\n",
      "dtypes: int64(7), object(9)\n",
      "memory usage: 43.3+ MB\n",
      "None\n"
     ]
    }
   ],
   "source": [
    "#Print info on DataFrame.\n",
    "print('Information for Cars DataFrame:\\n')\n",
    "print(cars.info())"
   ]
  },
  {
   "cell_type": "code",
   "execution_count": 6,
   "metadata": {},
   "outputs": [
    {
     "name": "stdout",
     "output_type": "stream",
     "text": [
      "2016    354369\n",
      "Name: datecrawled, dtype: int64\n"
     ]
    }
   ],
   "source": [
    "#Get value counts for datecrawled years for future reference.\n",
    "cars.datecrawled = pd.to_datetime(cars.datecrawled, infer_datetime_format=True)\n",
    "print(cars.datecrawled.dt.year.value_counts())"
   ]
  },
  {
   "cell_type": "markdown",
   "metadata": {},
   "source": [
    "1.3.2 Notes Continued: There are 354,369 entries in this DataFrame. We can see from the Non_null count in the info that many columns have NaNs; we will deal with these in a subsequent subsection. We also believe that 'datecrawled', 'datecreated', and 'lastseen' are irrelevant features and should be dropped. Although we believe that 'datecrawled' should be dropped, we decided to change its data type and obtain a value count for the years represented; this was done to aid in our later filtering out vehicles with incorrect 'registrationyear' values from our dataset. With the aforementioned irrelevant features dropped, all columns would be of the proper datatype. "
   ]
  },
  {
   "cell_type": "markdown",
   "metadata": {},
   "source": [
    "#### Drop Irrelevant Columns"
   ]
  },
  {
   "cell_type": "code",
   "execution_count": 7,
   "metadata": {},
   "outputs": [],
   "source": [
    "#Drop irrelevant columns from DataFrame.\n",
    "cars.drop(columns=['datecrawled', 'datecreated', 'lastseen', 'numberofpictures', 'postalcode'], inplace=True)"
   ]
  },
  {
   "cell_type": "markdown",
   "metadata": {},
   "source": [
    "#### Check for Duplicates"
   ]
  },
  {
   "cell_type": "code",
   "execution_count": 8,
   "metadata": {},
   "outputs": [
    {
     "name": "stdout",
     "output_type": "stream",
     "text": [
      "The number of duplicated rows in the dataset is: 27543\n"
     ]
    }
   ],
   "source": [
    "#Check dataset for duplicate rows\n",
    "print(f'The number of duplicated rows in the dataset is: {cars.duplicated().sum()}')"
   ]
  },
  {
   "cell_type": "markdown",
   "metadata": {},
   "source": [
    "1.3.4 Notes: We found that there are 27,543 duplicates in this dataset. If we don't remove them, they could bias our future machine learning models. As such, we will drop the duplicates and reset the DataFrame's index.\n"
   ]
  },
  {
   "cell_type": "code",
   "execution_count": 9,
   "metadata": {},
   "outputs": [],
   "source": [
    "#Drop duplicates\n",
    "cars.drop_duplicates(inplace=True)\n",
    "cars.reset_index(drop=True) ;"
   ]
  },
  {
   "cell_type": "markdown",
   "metadata": {},
   "source": [
    "#### Deal With Possible Incorrect Values"
   ]
  },
  {
   "cell_type": "markdown",
   "metadata": {},
   "source": [
    "In this subsection we will consider the best ways to deal with what we believe to be incorrect values, as mentioned in subsection 1.3.2."
   ]
  },
  {
   "cell_type": "markdown",
   "metadata": {},
   "source": [
    "##### Price"
   ]
  },
  {
   "cell_type": "code",
   "execution_count": 10,
   "metadata": {},
   "outputs": [
    {
     "data": {
      "image/png": "[encoded data removed]",
      "text/plain": [
       "<Figure size 720x360 with 1 Axes>"
      ]
     },
     "metadata": {
      "needs_background": "light"
     },
     "output_type": "display_data"
    }
   ],
   "source": [
    "#Create histogram to visualize price distribution.\n",
    "fig = plt.figure(figsize=(10, 5))\n",
    "plt.suptitle('Histogram for Vehicle Price', fontsize=15, y=.95)\n",
    "sns.histplot(cars.price, bins=40)\n",
    "plt.xlabel('Vehicle Price', fontsize=12)\n",
    "plt.ylabel('Count', fontsize=12)\n",
    "plt.show()"
   ]
  },
  {
   "cell_type": "code",
   "execution_count": 11,
   "metadata": {},
   "outputs": [
    {
     "name": "stdout",
     "output_type": "stream",
     "text": [
      "Proportion of vehicles listed as costing $0: 0.03%\n"
     ]
    }
   ],
   "source": [
    "#Obtain count for vechiles listed as $0.\n",
    "print(f'Proportion of vehicles listed as costing $0: {round(len(cars.loc[cars.price == 0]) / len(cars), 2)}%')"
   ]
  },
  {
   "cell_type": "markdown",
   "metadata": {},
   "source": [
    "1.3.5.1 Notes: Given how little of the dataset is comprised of vehicles listed for $0, we believe it is appropriate to simply drop these data points."
   ]
  },
  {
   "cell_type": "code",
   "execution_count": 12,
   "metadata": {},
   "outputs": [],
   "source": [
    "#Drop vechiles listed for $0 from dataset.\n",
    "cars = cars.loc[cars['price'] > 0]\n",
    "cars.reset_index(drop=True, inplace=True)"
   ]
  },
  {
   "cell_type": "markdown",
   "metadata": {},
   "source": [
    "##### Registration Year"
   ]
  },
  {
   "cell_type": "code",
   "execution_count": 13,
   "metadata": {
    "scrolled": true
   },
   "outputs": [
    {
     "data": {
      "image/png": "[encoded data removed]",
      "text/plain": [
       "<Figure size 720x360 with 1 Axes>"
      ]
     },
     "metadata": {
      "needs_background": "light"
     },
     "output_type": "display_data"
    }
   ],
   "source": [
    "#Create boxplot to visualize registrationyear distribution.\n",
    "fig = plt.figure(figsize=(10, 5))\n",
    "plt.suptitle('Boxplot for Vehicle Registration Year', fontsize=15, y=.95)\n",
    "sns.boxplot(data=cars.registrationyear, color='blue')\n",
    "plt.tick_params(axis='x', which='both', bottom=False, top=False, labelbottom=False)\n",
    "plt.xlabel('')\n",
    "plt.ylabel('Vehicle Registration Year', fontsize=12)\n",
    "plt.show()"
   ]
  },
  {
   "cell_type": "markdown",
   "metadata": {},
   "source": [
    "1.3.5.2 Notes: From the boxplot, we can clearly see that most of the values are around 2000, though there are many outliers. We believe that the most suitable method for removing the outliers is to use the interquartile range. We will create a function that calculates the interquartile range (IQR) and removes any values 1.5 times the IQR above the third quartile and below the first quartile."
   ]
  },
  {
   "cell_type": "code",
   "execution_count": 14,
   "metadata": {},
   "outputs": [],
   "source": [
    "#Create function to remove outliers.\n",
    "def remove_outliers(df, column):\n",
    "    iqr = st.iqr(df[column])\n",
    "    q1, q3 = np.quantile(df[column], [.25, .75])\n",
    "    df = df.loc[(df[column] >= q1 - (1.5 * iqr)) & (df[column] <= q3 + (1.5 * iqr))]\n",
    "    return df"
   ]
  },
  {
   "cell_type": "code",
   "execution_count": 15,
   "metadata": {},
   "outputs": [],
   "source": [
    "#Remove outliers from 'registrationyear' column.\n",
    "cars = remove_outliers(cars, 'registrationyear')"
   ]
  },
  {
   "cell_type": "code",
   "execution_count": 16,
   "metadata": {},
   "outputs": [
    {
     "name": "stdout",
     "output_type": "stream",
     "text": [
      "count    311900.000000\n",
      "mean       2003.629987\n",
      "std           6.371030\n",
      "min        1986.000000\n",
      "25%        1999.000000\n",
      "50%        2003.000000\n",
      "75%        2008.000000\n",
      "max        2019.000000\n",
      "Name: registrationyear, dtype: float64\n"
     ]
    }
   ],
   "source": [
    "#Obtain description of vechile registration year data.\n",
    "print(cars.registrationyear.describe())"
   ]
  },
  {
   "cell_type": "markdown",
   "metadata": {},
   "source": [
    "1.3.5.2 Notes Continued: Whereas our 'registrationyear' values now appear to be in the appropriate range, the max values represented are 2019. As we saw in subsection 1.3.2, 2016 was the only year represented in the 'datecrawled' column, which means that it should not contain information for vehicles registered past 2016. Because of this, we believe it is appropriate to drop all vehicles with registration years past 2016 from our dataset, so long as the number of such vehicles does not comprise a large portion of our dataset. "
   ]
  },
  {
   "cell_type": "code",
   "execution_count": 17,
   "metadata": {},
   "outputs": [
    {
     "name": "stdout",
     "output_type": "stream",
     "text": [
      "Proportion of vechiles with registrationyear value above 2016:       0.04%\n"
     ]
    }
   ],
   "source": [
    "#Print proportion of vehicles with registrationyear value above 2016.\n",
    "print(f'Proportion of vechiles with registrationyear value above 2016: \\\n",
    "      {round(len(cars.loc[cars.registrationyear > 2016]) / len(cars), 2)}%')"
   ]
  },
  {
   "cell_type": "code",
   "execution_count": 18,
   "metadata": {},
   "outputs": [],
   "source": [
    "#Drop vehicles from dataset with registrationyear values above 2016.\n",
    "cars = cars.loc[cars['registrationyear'] <= 2016]\n",
    "cars.reset_index(drop=True, inplace=True)"
   ]
  },
  {
   "cell_type": "markdown",
   "metadata": {},
   "source": [
    "##### Power"
   ]
  },
  {
   "cell_type": "code",
   "execution_count": 19,
   "metadata": {},
   "outputs": [
    {
     "data": {
      "image/png": "[encoded data removed]",
      "text/plain": [
       "<Figure size 720x360 with 1 Axes>"
      ]
     },
     "metadata": {
      "needs_background": "light"
     },
     "output_type": "display_data"
    }
   ],
   "source": [
    "#Create boxplot to visualize vehicle power distribution.\n",
    "fig = plt.figure(figsize=(10, 5))\n",
    "plt.suptitle('Boxplot for Vehicle Power Values', fontsize=15, y=.95)\n",
    "sns.boxplot(data=cars.power, color='blue')\n",
    "plt.tick_params(axis='x', which='both', bottom=False, top=False, labelbottom=False)\n",
    "plt.xlabel('')\n",
    "plt.ylabel('Vehicle Power', fontsize=12)\n",
    "plt.show()"
   ]
  },
  {
   "cell_type": "markdown",
   "metadata": {},
   "source": [
    "1.3.5.3 Notes: We can see from the boxplot that most of the values for 'power' are within an expected range - that is, around the 100-200 area. There are, however, a few outliers. These might be due to human error, or be the result of high-power specialty racing vehicles being represented in the dataset. We believe that it would be appropriate to drop these vehicles from the dataset either way."
   ]
  },
  {
   "cell_type": "code",
   "execution_count": 20,
   "metadata": {},
   "outputs": [],
   "source": [
    "#Remove outliers from 'power' column.\n",
    "cars = remove_outliers(cars, 'power')"
   ]
  },
  {
   "cell_type": "code",
   "execution_count": 21,
   "metadata": {
    "scrolled": false
   },
   "outputs": [
    {
     "data": {
      "image/png": "[encoded data removed]",
      "text/plain": [
       "<Figure size 720x360 with 1 Axes>"
      ]
     },
     "metadata": {
      "needs_background": "light"
     },
     "output_type": "display_data"
    }
   ],
   "source": [
    "#Create histogram to visualize power distribution.\n",
    "fig = plt.figure(figsize=(10, 5))\n",
    "plt.suptitle('Histogram for Vehicle Power', fontsize=15, y=.95)\n",
    "sns.histplot(cars.power, bins=40)\n",
    "plt.xlabel('Vehicle Power', fontsize=12)\n",
    "plt.ylabel('Count', fontsize=12)\n",
    "plt.show()"
   ]
  },
  {
   "cell_type": "markdown",
   "metadata": {},
   "source": [
    "1.3.5.3 Continued: As can be seen from the above histogram, we did not remove all outliers for 'power' with our function. This is because, due to the distribution of data, 0 was above 1.5 times the IRQ below the first quartile, which means it was not filtered out. A 0 for vehicle power may either be the result of human error or perhaps the vehicle being totaled. Nonetheless, to ensure the integrity of our model, we believe it best to remove such vehicles from our dataset."
   ]
  },
  {
   "cell_type": "code",
   "execution_count": 22,
   "metadata": {},
   "outputs": [],
   "source": [
    "#Remove vechiles with 0 for power from our dataset.\n",
    "cars = cars.loc[cars['power'] > 0]\n",
    "cars.reset_index(drop=True, inplace=True)"
   ]
  },
  {
   "cell_type": "markdown",
   "metadata": {},
   "source": [
    "#### Deal with NaNs"
   ]
  },
  {
   "cell_type": "code",
   "execution_count": 23,
   "metadata": {},
   "outputs": [
    {
     "name": "stdout",
     "output_type": "stream",
     "text": [
      "Total NaNs in each column:\n",
      "price                    0\n",
      "vehicletype          10337\n",
      "registrationyear         0\n",
      "gearbox               4982\n",
      "power                    0\n",
      "model                 9703\n",
      "mileage                  0\n",
      "registrationmonth        0\n",
      "fueltype             14623\n",
      "brand                    0\n",
      "notrepaired          39126\n",
      "dtype: int64\n"
     ]
    }
   ],
   "source": [
    "#Print the number of NaNs in DataFrame.\n",
    "print('Total NaNs in each column:')\n",
    "print(cars.isna().sum())"
   ]
  },
  {
   "cell_type": "markdown",
   "metadata": {},
   "source": [
    "1.3.6 Notes: As we can see, all of the features with NaNs are comprised of categorical variables. We will attempt to fill most of these NaNs by grouping by model and filling the missing value with the most popular feature value in that group. To get a quick feel for the values in 'model', we will view the value counts for the series."
   ]
  },
  {
   "cell_type": "code",
   "execution_count": 24,
   "metadata": {},
   "outputs": [
    {
     "data": {
      "text/plain": [
       "golf          22020\n",
       "other         16680\n",
       "3er           15526\n",
       "polo           9718\n",
       "corsa          9125\n",
       "              ...  \n",
       "kalina            4\n",
       "6er               4\n",
       "rangerover        2\n",
       "cayenne           2\n",
       "911               2\n",
       "Name: model, Length: 246, dtype: int64"
      ]
     },
     "metadata": {},
     "output_type": "display_data"
    }
   ],
   "source": [
    "#Print value counts for 'model'\n",
    "display(cars.model.value_counts())"
   ]
  },
  {
   "cell_type": "markdown",
   "metadata": {},
   "source": [
    "1.3.6 Notes Continued: From our value counts, we can see that there are approximately 250 models listed. We also see that one of the most popular models is 'other'. This is odd, and could lead to errors when filling NaNs based on model, since it is unclear what sorts of vehicles fit under 'other'. Since, in our opinion, most of the categorical values are dependent on the model of vehicle, in order to ensure the integrity of the data we will drop all NaNs in the 'model' column, as well as vehicles of the type 'other'."
   ]
  },
  {
   "cell_type": "code",
   "execution_count": 25,
   "metadata": {},
   "outputs": [],
   "source": [
    "#Drop rows from dataset with 'model' values of NaN or 'other'\n",
    "cars = cars.loc[(cars['model'].notnull()) & (cars['model'] != 'other')]\n",
    "cars.reset_index(drop=True, inplace=True)"
   ]
  },
  {
   "cell_type": "markdown",
   "metadata": {},
   "source": [
    "##### Fill NaNs for 'vehicletype'"
   ]
  },
  {
   "cell_type": "code",
   "execution_count": 26,
   "metadata": {},
   "outputs": [],
   "source": [
    "#Fill NaNs for 'vehicletype' by model\n",
    "cars.vehicletype = cars.vehicletype.fillna(cars.groupby(['model'])['vehicletype'] \\\n",
    "                                           .transform(lambda x: x.value_counts().index[0]))"
   ]
  },
  {
   "cell_type": "markdown",
   "metadata": {},
   "source": [
    "##### Fill NaNs for 'gearbox'"
   ]
  },
  {
   "cell_type": "code",
   "execution_count": 27,
   "metadata": {},
   "outputs": [],
   "source": [
    "#Fill NaNs for 'gearbox' by model\n",
    "cars.gearbox = cars.gearbox.fillna(cars.groupby(['model'])['gearbox'] \\\n",
    "                                             .transform(lambda x: x.value_counts().index[0]))"
   ]
  },
  {
   "cell_type": "markdown",
   "metadata": {},
   "source": [
    "##### Fill NaNs for 'fueltype'"
   ]
  },
  {
   "cell_type": "code",
   "execution_count": 28,
   "metadata": {},
   "outputs": [],
   "source": [
    "#Fill NaNs for 'fueltype' by model\n",
    "cars.fueltype = cars.fueltype.fillna(cars.groupby(['model'])['fueltype'] \\\n",
    "                                             .transform(lambda x: x.value_counts().index[0]))"
   ]
  },
  {
   "cell_type": "markdown",
   "metadata": {},
   "source": [
    "##### Fill NaNs for 'notrepaired'"
   ]
  },
  {
   "cell_type": "markdown",
   "metadata": {},
   "source": [
    "Since whether a vehicle has been repaired or not is not affected by the vehicle's model, we can not use the same method to replace the missing values in the relevant column. Nonetheless, it may be possible to fill the NaNs according to price. Typically, when a vehicle has been repaired, the value of the vehicle is reduced. To see if this holds true for our dataset, we will visualize our data using a boxplot. If we find that there is a clear difference in price between vehicles that have been repaired and those that haven't, we will use this information to fill in the NaNs."
   ]
  },
  {
   "cell_type": "code",
   "execution_count": 29,
   "metadata": {},
   "outputs": [
    {
     "data": {
      "image/png": "[encoded data removed]",
      "text/plain": [
       "<Figure size 720x360 with 1 Axes>"
      ]
     },
     "metadata": {
      "needs_background": "light"
     },
     "output_type": "display_data"
    }
   ],
   "source": [
    "#Create boxplot to visualuze 'notrepaired' relation to 'price'.\n",
    "fig = plt.figure(figsize=(10, 5))\n",
    "plt.suptitle(\"Boxplot to Visualize Price for Repaired/Unrepaired Vehicles\", fontsize=15, y=.95)\n",
    "sns.boxplot(y='price', x='notrepaired', data=cars)\n",
    "plt.xlabel('Not Repaired', fontsize=12)\n",
    "plt.ylabel('Price', fontsize=12)\n",
    "plt.show()"
   ]
  },
  {
   "cell_type": "markdown",
   "metadata": {},
   "source": [
    "1.3.6.4 Notes: From the boxplot we can see that there is a clear difference in price between vehicles that have and have not been repaired; however, the correlation appears to be the opposite of what we predicted. Perhaps this is due to a mistake in how the data was entered - that is, perhaps those who input the data believed that inputting 'yes' meant the vehicle was repaired. Another explanation is that used cars typically have some wear/tear, and repairing any damages prior to listing it on the market would save the buyer from paying such costs, this increasing the value of the used vehicle. Whatever the reason, we can use the apparent differences in prices for repaired and unrepaired vehicles to fill in the relevant NaNs. Given that the third quartile of vehicle prices for those marked 'yes' extends just slightly above the first quartile of prices for those vehicles marked 'no', we will set the cutoff for filling the NaNs in 'notrepaired' by vehicle price at $2400; anything above this price will be given the value of 'no' for 'notrepaired'."
   ]
  },
  {
   "cell_type": "code",
   "execution_count": 30,
   "metadata": {
    "scrolled": true
   },
   "outputs": [],
   "source": [
    "#Create function to fill values in 'notrepaired' based on 'price'\n",
    "def repaired(x):\n",
    "    if pd.notna(x['notrepaired']):\n",
    "        return x['notrepaired']\n",
    "    else:\n",
    "        if x['price'] <= 2400:\n",
    "            return 'yes'\n",
    "        else: \n",
    "            return 'no'\n",
    "\n",
    "#Fill values in 'notrepaired' using apply() with lambda function.\n",
    "cars['notrepaired'] = cars.apply(lambda x: repaired(x), axis=1)"
   ]
  },
  {
   "cell_type": "markdown",
   "metadata": {},
   "source": [
    "##### Check for Remaining NaNs"
   ]
  },
  {
   "cell_type": "code",
   "execution_count": 31,
   "metadata": {},
   "outputs": [
    {
     "name": "stdout",
     "output_type": "stream",
     "text": [
      "NaNs remaining in DataFrame: 0\n"
     ]
    }
   ],
   "source": [
    "#Print the number of NaNs in DataFrame.\n",
    "print(f'NaNs remaining in DataFrame: {cars.isna().sum().sum()}')"
   ]
  },
  {
   "cell_type": "markdown",
   "metadata": {},
   "source": [
    "1.3.6.5 Notes: Unfortunately, in order to preserve the integrity of our data we had to drop a number of rows from our dataset where we were missing values for 'model', or where those values were marked as 'other'. On a positive note, after doing so we were able to fill the NaNs in other key columns based on 'model'. We were also able to fill all NaNs in 'notrepaired' based on the relation between 'notrepaired' values and vehicle prices."
   ]
  },
  {
   "cell_type": "markdown",
   "metadata": {},
   "source": [
    "#### Data Preprocessing Conclusion"
   ]
  },
  {
   "cell_type": "markdown",
   "metadata": {},
   "source": [
    "In this subsection we preprocessed our data in order to ensure it's integrity with regard to our future machine learning models. We found that this dataset included many anomalies, outliers, and missing values. When dealing with anomalies, we used our best judgment in determining whether specific data should be kept or removed. For example, we determined that the dataset should only include information for vehicles registered latest in 2016, as the year values for 'datecrawled' were all 2016. We also found that certain 'power' values were *far* higher than any commercial car would have; as such, we used the IQR rule to remove vehicles with outlier 'power' values from the dataset. \n",
    "\n",
    "When filling in the NaNs, we determined that the feature that correlates most with other features that include NaNs is 'model'. In order to effectively fill in NaNs, we removed all vehicles with a NaN or 'other' value in 'model' from the dataset. We then filled in most other NaNs based on the relevant mode value each model. Finally, for the 'notrepaired' feature, we filled in the NaNs based on the vehicle's price, as we found a large difference in mean price for vehicles that have been repaired and those that haven't.\n",
    "\n",
    "In the following section, we will build and test various machine learning models with the goal of building a model that predicts a vehicles price with a high degree of accuracy."
   ]
  },
  {
   "cell_type": "markdown",
   "metadata": {},
   "source": [
    "## Build and Test Regression Models"
   ]
  },
  {
   "cell_type": "markdown",
   "metadata": {},
   "source": [
    "In this section we will build various regression models with the goal of predicting a vehicle's value. In doing so, we will compare the performance of a number of sklearn algorithms with three gradient boosting algorithms - that is, CatBoost, XGBoost, and LightGBM. Regarding the sklearn algorithms, we will search for optimal hyperparameters using GridSearchCV. For the boosting algorithms, we will test only a few different hyperparameters, given the length of time is takes to perform gradient boosting; rather than using GridSearchCV with these algorithms, we will manually tune hyperparameters using testing, training, and validation datasets."
   ]
  },
  {
   "cell_type": "markdown",
   "metadata": {},
   "source": [
    "### Build and Test Sklearn Regression Models"
   ]
  },
  {
   "cell_type": "markdown",
   "metadata": {},
   "source": [
    "In this subsection we will only train and test sklearn regression models. We will build a class for creating and training models with GridSearchCV. We will then test the model and save the scores in dictionaries for later comparison. We will start this subsection by splitting the data into only training and testing datasets; since we use GridSearchCV to tune hyperparameters, validations sets will be automatically created by using one of the training folds."
   ]
  },
  {
   "cell_type": "markdown",
   "metadata": {},
   "source": [
    "#### Split the Data into Training and Learning DataSets"
   ]
  },
  {
   "cell_type": "code",
   "execution_count": 32,
   "metadata": {},
   "outputs": [],
   "source": [
    "#Split the data into target and feature sets.\n",
    "cars_target = cars.price\n",
    "cars_features = cars.drop(columns='price', axis=1)\n",
    "\n",
    "#Obtain list of categorical and continuous variable names.\n",
    "cars_features_continuous = [x for x in cars_features.columns if cars_features[x].dtype != 'object']\n",
    "cars_features_categorical = [x for x in cars_features.columns if x not in cars_features_continuous]\n",
    "\n",
    "#One-Hot-Encode Categorical Features\n",
    "cars_features_ohe = pd.get_dummies(cars_features, drop_first=True)\n",
    "\n",
    "#Split the data into training and testing datasets with 70-30 proportion.\n",
    "X_train, X_test, y_train, y_test = train_test_split(cars_features_ohe, cars_target, test_size=.3)"
   ]
  },
  {
   "cell_type": "markdown",
   "metadata": {},
   "source": [
    "#### Define Scoring Function"
   ]
  },
  {
   "cell_type": "code",
   "execution_count": 33,
   "metadata": {},
   "outputs": [],
   "source": [
    "#Create function to return RMSE.\n",
    "def rmse_score(target, prediction):\n",
    "    return round(math.sqrt(mean_squared_error(target, prediction)), 2)\n",
    "\n",
    "#Create a scorer from rmse for GridSearchCV.\n",
    "rmse = make_scorer(rmse_score, greater_is_better=False)"
   ]
  },
  {
   "cell_type": "markdown",
   "metadata": {},
   "source": [
    "#### Create Class for Model Training"
   ]
  },
  {
   "cell_type": "code",
   "execution_count": 34,
   "metadata": {},
   "outputs": [],
   "source": [
    "#Create class to find best models while using a pipeline to transform data.\n",
    "class create_model:\n",
    "    \n",
    "    #Initialize model with required variables.\n",
    "    def __init__(self, model, params, name):\n",
    "        self.model = model\n",
    "        self.params = params\n",
    "        self.name = name\n",
    "        self.rmse = None\n",
    "        self.test_score = None\n",
    "        self.best_params = None\n",
    "        \n",
    "    #Function for training and testing model.\n",
    "    def score_it(self, scale):\n",
    "        \n",
    "        #Create pipeline with scaler if non-tree based algorithm.\n",
    "        if scale == True:\n",
    "            pipeline = Pipeline(steps=[['scale', MinMaxScaler()], \n",
    "                               ['classifier', self.model]])\n",
    "        else:\n",
    "            pipeline = Pipeline(steps=[['classifier', self.model]])\n",
    "            \n",
    "        #Use GridSearchCV to tune hyperparameters.    \n",
    "        grid_search = GridSearchCV(estimator=pipeline, param_grid=self.params, scoring=rmse, cv=5, \\\n",
    "                           n_jobs=-1, verbose = 0, refit=True)\n",
    "        \n",
    "        #Fit best model and obtain relevant values.\n",
    "        grid_search.fit(X_train, y_train)\n",
    "        self.rmse = -1 * grid_search.best_score_\n",
    "        self.test_score = -1 * grid_search.score(X_test, y_test)\n",
    "        self.best_params = grid_search.best_params_"
   ]
  },
  {
   "cell_type": "markdown",
   "metadata": {},
   "source": [
    "#### Train and Test Sklearn Models"
   ]
  },
  {
   "cell_type": "code",
   "execution_count": 35,
   "metadata": {},
   "outputs": [],
   "source": [
    "#Create dictionary to store each model's test scores and training time.\n",
    "dict_training_scores = {}\n",
    "dict_test_scores = {}\n",
    "dict_time = {}\n",
    "dict_best_params = {}"
   ]
  },
  {
   "cell_type": "markdown",
   "metadata": {},
   "source": [
    "##### DecisionTreeRegressor"
   ]
  },
  {
   "cell_type": "code",
   "execution_count": 36,
   "metadata": {
    "scrolled": true
   },
   "outputs": [
    {
     "name": "stdout",
     "output_type": "stream",
     "text": [
      "Wall time: 1min 21s\n"
     ]
    }
   ],
   "source": [
    "%%time\n",
    "\n",
    "#Start timer for saving execution time in variable.\n",
    "t0 = time.time()\n",
    "\n",
    "#Train and test DecisionTreeRegressor model.\n",
    "pipe_DTR = create_model(DecisionTreeRegressor(random_state=12345), \n",
    "                          {'classifier__max_depth': range(10, 50, 10),\n",
    "                           'classifier__min_impurity_decrease' : [.01, .05, .10, .15]}, \"Decision Tree Regressor\")\n",
    "\n",
    "#Do not scale, as not a distance based algorithm.\n",
    "pipe_DTR.score_it(False)\n",
    "\n",
    "#Stop timer and save time.\n",
    "t1 = time.time()\n",
    "\n",
    "#Obtain model scores.\n",
    "dict_test_scores[pipe_DTR.name] = pipe_DTR.test_score\n",
    "dict_training_scores[pipe_DTR.name] = pipe_DTR.rmse\n",
    "dict_time[pipe_DTR.name] = round(t1 - t0, 2)\n",
    "dict_best_params[pipe_DTR.name] = pipe_DTR.best_params"
   ]
  },
  {
   "cell_type": "markdown",
   "metadata": {},
   "source": [
    "##### SGDRegressor"
   ]
  },
  {
   "cell_type": "code",
   "execution_count": 37,
   "metadata": {},
   "outputs": [
    {
     "name": "stdout",
     "output_type": "stream",
     "text": [
      "Wall time: 10min 47s\n"
     ]
    }
   ],
   "source": [
    "%%time\n",
    "\n",
    "#Start timer for saving execution time in variable.\n",
    "t0 = time.time()\n",
    "\n",
    "#Train and test LinearRegression model.\n",
    "pipe_SGDR = create_model(SGDRegressor(random_state=12345), \n",
    "                        {'classifier__alpha' : [.0001, .001, .01],\n",
    "                        'classifier__max_iter' : [2000],\n",
    "                        'classifier__learning_rate' : ['optimal', 'invscaling']}, \n",
    "                        \"Stochastic Gradient Descent Regressor\")\n",
    "\n",
    "#Scale as distance based algorithm.\n",
    "pipe_SGDR.score_it(True)\n",
    "\n",
    "#Stop timer and save time.\n",
    "t1 = time.time()\n",
    "\n",
    "#Obtain model scores.\n",
    "dict_test_scores[pipe_SGDR.name] = pipe_SGDR.test_score\n",
    "dict_training_scores[pipe_SGDR.name] = pipe_SGDR.rmse\n",
    "dict_time[pipe_SGDR.name] = round(t1 - t0, 2)\n",
    "dict_best_params[pipe_SGDR.name] = pipe_SGDR.best_params"
   ]
  },
  {
   "cell_type": "markdown",
   "metadata": {},
   "source": [
    "##### RandomForestRegressor"
   ]
  },
  {
   "cell_type": "code",
   "execution_count": 38,
   "metadata": {},
   "outputs": [
    {
     "name": "stdout",
     "output_type": "stream",
     "text": [
      "Wall time: 37min 15s\n"
     ]
    }
   ],
   "source": [
    "%%time\n",
    "\n",
    "#Start timer for saving execution time in variable.\n",
    "t0 = time.time()\n",
    "\n",
    "#Train and test RandomForestRegressor model.\n",
    "pipe_RFG = create_model(RandomForestRegressor(random_state=12345), \n",
    "                        {'classifier__n_estimators' : [20, 50, 100],\n",
    "                        'classifier__min_impurity_decrease' : [.0, .01, .05, .1]}, \n",
    "                        \"Random Forest Regressor\")\n",
    "\n",
    "#Do not scale as not distance based.\n",
    "pipe_RFG.score_it(False)\n",
    "\n",
    "#Stop timer and save time.\n",
    "t1 = time.time()\n",
    "\n",
    "#Obtain model scores.\n",
    "dict_test_scores[pipe_RFG.name] = pipe_RFG.test_score\n",
    "dict_training_scores[pipe_RFG.name] = pipe_RFG.rmse\n",
    "dict_time[pipe_RFG.name] = round(t1 - t0, 2)\n",
    "dict_best_params[pipe_RFG.name] = pipe_RFG.best_params"
   ]
  },
  {
   "cell_type": "markdown",
   "metadata": {},
   "source": [
    "2.1.4 Notes: As we can see, the model that trained the quickest was the Decision Tree Regressor model. The model that took, by far, the longest to find the optimal parameters for is the Random Forest Regressor. \n",
    "\n",
    "We've saved all the scores and training times in dictionaries and will provide a detailed conclusion regarding the values after training and testing our gradient boosting models. We will also use build a Linear Regression model at the end for a sanity check."
   ]
  },
  {
   "cell_type": "markdown",
   "metadata": {},
   "source": [
    "### Build and Test Gradient Boosting Models"
   ]
  },
  {
   "cell_type": "markdown",
   "metadata": {},
   "source": [
    "#### Prepare the Data"
   ]
  },
  {
   "cell_type": "code",
   "execution_count": 39,
   "metadata": {},
   "outputs": [],
   "source": [
    "#Create new datasets for gradient boosting.\n",
    "cars_gb = cars.copy()\n",
    "cars_gb_ohe = pd.get_dummies(cars_gb, drop_first=True)\n",
    "\n",
    "#Create list of featues for both datasets.\n",
    "cars_gb_feat = [x for x in cars_gb.columns if x != 'price']\n",
    "cars_gb_ohe_feat = [x for x in cars_gb_ohe.columns if x != 'price']\n",
    "\n",
    "#Obtain list of categorical variable names for non-OHE dataset.\n",
    "cars_gb_feat_cat = [x for x in cars_features.columns if cars_features[x].dtype == 'object']\n",
    "\n",
    "#Change categorical features in non-OHE dataset to dtype 'category'.\n",
    "for c in cars_gb_feat_cat:\n",
    "    cars_gb[c] = cars_gb[c].astype('category')\n",
    "\n",
    "#Split non-OHE dataset into train, validate, and test sets (60-20-20).\n",
    "train_gb, validate_gb, test_gb = np.split(cars_gb.sample(frac=1), [int(.6*len(cars_gb)), int(.8*len(cars_gb))])\n",
    "\n",
    "#Split OHE dataset into train, validate, and test sets (60-20-20).\n",
    "train_gb_ohe, validate_gb_ohe, test_gb_ohe = np.split(cars_gb_ohe.sample(frac=1), [int(.6*len(cars_gb_ohe)), int(.8*len(cars_gb_ohe))])"
   ]
  },
  {
   "cell_type": "markdown",
   "metadata": {},
   "source": [
    "#### Build and Test Models"
   ]
  },
  {
   "cell_type": "markdown",
   "metadata": {},
   "source": [
    "##### CatBoostRegressor"
   ]
  },
  {
   "cell_type": "code",
   "execution_count": 40,
   "metadata": {},
   "outputs": [
    {
     "name": "stdout",
     "output_type": "stream",
     "text": [
      "Wall time: 7min 35s\n"
     ]
    }
   ],
   "source": [
    "%%time\n",
    "\n",
    "#Start timer for saving execution time in variable.\n",
    "t0 = time.time()\n",
    "\n",
    "#Create variables for best learning rate and test score.\n",
    "best_rate = 0\n",
    "best_valid_rmse = 0\n",
    "\n",
    "#Create for loop to tune learning_rate hyperparameter of CatBoostRegressor.\n",
    "for i in np.arange(.01, .1, .01):\n",
    "    catboost = CatBoostRegressor(random_state=12345, loss_function='RMSE', learning_rate=i, verbose=0)\n",
    "    catboost.fit(train_gb[cars_gb_feat], train_gb['price'], cat_features=cars_gb_feat_cat)\n",
    "    predicted = catboost.predict(validate_gb[cars_gb_feat])\n",
    "    valid_rmse = rmse_score(validate_gb['price'], predicted)\n",
    "    if best_valid_rmse == 0:\n",
    "        best_valid_rmse = valid_rmse\n",
    "        best_rate = i\n",
    "    elif valid_rmse < best_valid_rmse:\n",
    "        best_valid_rmse = valid_rmse\n",
    "        best_rate = i\n",
    "    else:\n",
    "        continue\n",
    "\n",
    "#Using best hyperparameter identified, fit and predict model.\n",
    "catboost = CatBoostRegressor(random_state=12345, loss_function='RMSE', learning_rate=best_rate, verbose=0)\n",
    "catboost.fit(train_gb[cars_gb_feat], train_gb['price'], cat_features=cars_gb_feat_cat)\n",
    "predicted = catboost.predict(test_gb[cars_gb_feat])\n",
    "\n",
    "#Stop timer and save time.\n",
    "t1 = time.time()\n",
    "\n",
    "#Obtain model scores.\n",
    "dict_test_scores['CatBoostRegressor'] = rmse_score(test_gb['price'], predicted)\n",
    "dict_training_scores['CatBoostRegressor'] = best_valid_rmse\n",
    "dict_time['CatBoostRegressor'] = round(t1 - t0, 2)\n",
    "dict_best_params['CatBoostRegressor'] = f'learning_rate: {best_rate}'"
   ]
  },
  {
   "cell_type": "markdown",
   "metadata": {},
   "source": [
    "##### XGBRegressor"
   ]
  },
  {
   "cell_type": "code",
   "execution_count": 45,
   "metadata": {},
   "outputs": [
    {
     "name": "stdout",
     "output_type": "stream",
     "text": [
      "Wall time: 3min 48s\n"
     ]
    }
   ],
   "source": [
    "%%time\n",
    "\n",
    "#Start timer for saving execution time in variable.\n",
    "t0 = time.time()\n",
    "\n",
    "#Create variables for best learning rate and test score.\n",
    "best_rate_XG = 0\n",
    "best_valid_rmse_XG = 0\n",
    "\n",
    "#Create for loop to tune learning_rate hyperparameter of XGBoost.\n",
    "for i in np.arange(.01, .1, .01):\n",
    "    xgboost = XGBRegressor(random_state=12345, eval_metric='rmse', learning_rate=i)\n",
    "    xgboost.fit(train_gb_ohe[cars_gb_ohe_feat], train_gb_ohe['price'])\n",
    "    predicted = xgboost.predict(validate_gb_ohe[cars_gb_ohe_feat])\n",
    "    valid_rmse = rmse_score(validate_gb_ohe['price'], predicted)\n",
    "    if best_valid_rmse_XG == 0:\n",
    "        best_valid_rmse_XG = valid_rmse\n",
    "        best_rate_XG = i\n",
    "    elif valid_rmse < best_valid_rmse_XG:\n",
    "        best_valid_rmse = valid_rmse\n",
    "        best_rate_XG = i\n",
    "    else:\n",
    "        continue\n",
    "\n",
    "#Using best hyperparameter identified, fit and predict model.\n",
    "xgboost = XGBRegressor(random_state=12345, eval_metric='rmse', learning_rate=best_rate_XG)\n",
    "xgboost.fit(train_gb_ohe[cars_gb_ohe_feat], train_gb_ohe['price'])\n",
    "predicted = xgboost.predict(test_gb_ohe[cars_gb_ohe_feat])\n",
    "\n",
    "#Stop timer and save time.\n",
    "t1 = time.time()\n",
    "\n",
    "#Obtain model scores.\n",
    "dict_test_scores['XGBRegressor'] = rmse_score(test_gb_ohe['price'], predicted)\n",
    "dict_training_scores['XGBRegressor'] = best_valid_rmse_XG\n",
    "dict_time['XGBRegressor'] = round(t1 - t0, 2)\n",
    "dict_best_params['XGBRegressor'] = f'learning_rate: {best_rate_XG}'"
   ]
  },
  {
   "cell_type": "markdown",
   "metadata": {},
   "source": [
    "##### LGBMRegressor"
   ]
  },
  {
   "cell_type": "code",
   "execution_count": 42,
   "metadata": {},
   "outputs": [
    {
     "name": "stdout",
     "output_type": "stream",
     "text": [
      "Wall time: 6.17 s\n"
     ]
    }
   ],
   "source": [
    "%%time\n",
    "\n",
    "#Start timer for saving execution time in variable.\n",
    "t0 = time.time()\n",
    "\n",
    "#Create variables for best learning rate and test score.\n",
    "best_rate_GB = 0\n",
    "best_valid_rmse_GB = 0\n",
    "\n",
    "#Create for loop to tune learning_rate hyperparameter of LightGBM.\n",
    "for i in np.arange(.01, .1, .01):\n",
    "    LGMB = LGBMRegressor(random_state=12345, objective='regression', metric='rmse', learning_rate=i,\n",
    "                         verbosity = 0, force_row_wise='true')\n",
    "    LGMB.fit(train_gb[cars_gb_feat], train_gb['price'])\n",
    "    predicted = LGMB.predict(validate_gb[cars_gb_feat])\n",
    "    valid_rmse = rmse_score(validate_gb['price'], predicted)\n",
    "    if best_valid_rmse_GB == 0:\n",
    "        best_valid_rmse_GB = valid_rmse\n",
    "        best_rate_GB = i\n",
    "    elif valid_rmse < best_valid_rmse_GB:\n",
    "        best_valid_rmse_GB = valid_rmse\n",
    "        best_rate_GB = i\n",
    "    else:\n",
    "        continue\n",
    "        \n",
    "#Using best hyperparameter identified, fit and predict model.\n",
    "LGMB = LGBMRegressor(random_state=12345, objective='regression', metric='rmse', \n",
    "                     learning_rate=best_rate_GB, verbosity=0, force_row_wise='true')\n",
    "LGMB.fit(train_gb[cars_gb_feat], train_gb['price'])\n",
    "predicted = LGMB.predict(test_gb[cars_gb_feat])\n",
    "\n",
    "#Stop timer and save time.\n",
    "t1 = time.time()\n",
    "\n",
    "#Obtain model scores.\n",
    "dict_test_scores['LGBMRegressor'] = rmse_score(test_gb['price'], predicted)\n",
    "dict_training_scores['LGBMRegressor'] = best_valid_rmse_GB\n",
    "dict_time['LGBMRegressor'] = round(t1 - t0, 2)\n",
    "dict_best_params['LGBMRegressor'] = f'learning_rate: {best_rate_GB}'"
   ]
  },
  {
   "cell_type": "markdown",
   "metadata": {},
   "source": [
    "### Build a Sanity Check Model - Linear Regression"
   ]
  },
  {
   "cell_type": "markdown",
   "metadata": {},
   "source": [
    "#### Train and Test Linear Regression Model"
   ]
  },
  {
   "cell_type": "code",
   "execution_count": 43,
   "metadata": {},
   "outputs": [
    {
     "name": "stdout",
     "output_type": "stream",
     "text": [
      "Wall time: 8.79 s\n"
     ]
    }
   ],
   "source": [
    "%%time\n",
    "\n",
    "#Start timer for saving execution time in variable.\n",
    "t0 = time.time()\n",
    "\n",
    "#Create intance of LinearRegression model.\n",
    "pipe_lnr = create_model(LinearRegression(), {}, \"LinearRegression\")\n",
    "\n",
    "#Do not scale.\n",
    "pipe_lnr.score_it(False)\n",
    "\n",
    "#Stop timer and save time.\n",
    "t1 = time.time()\n",
    "\n",
    "#Obtain scores for LinearRegression model.\n",
    "dict_training_scores['LinearRegression'] = pipe_lnr.test_score\n",
    "dict_test_scores['LinearRegression'] = pipe_lnr.rmse\n",
    "dict_time['LinearRegression'] = round(t1 - t0, 2)\n",
    "dict_best_params['LinearRegression'] = pipe_lnr.best_params"
   ]
  },
  {
   "cell_type": "markdown",
   "metadata": {},
   "source": [
    "### Section Conclusion"
   ]
  },
  {
   "cell_type": "code",
   "execution_count": 46,
   "metadata": {},
   "outputs": [
    {
     "data": {
      "text/html": [
       "<div>\n",
       "<style scoped>\n",
       "    .dataframe tbody tr th:only-of-type {\n",
       "        vertical-align: middle;\n",
       "    }\n",
       "\n",
       "    .dataframe tbody tr th {\n",
       "        vertical-align: top;\n",
       "    }\n",
       "\n",
       "    .dataframe thead th {\n",
       "        text-align: right;\n",
       "    }\n",
       "</style>\n",
       "<table border=\"1\" class=\"dataframe\">\n",
       "  <thead>\n",
       "    <tr style=\"text-align: right;\">\n",
       "      <th></th>\n",
       "      <th>RMSE Train</th>\n",
       "      <th>RMSE Test</th>\n",
       "      <th>Time</th>\n",
       "    </tr>\n",
       "  </thead>\n",
       "  <tbody>\n",
       "    <tr>\n",
       "      <th>CatBoostRegressor</th>\n",
       "      <td>1410.770</td>\n",
       "      <td>1404.32</td>\n",
       "      <td>455.80</td>\n",
       "    </tr>\n",
       "    <tr>\n",
       "      <th>LGBMRegressor</th>\n",
       "      <td>1425.560</td>\n",
       "      <td>1412.12</td>\n",
       "      <td>6.17</td>\n",
       "    </tr>\n",
       "    <tr>\n",
       "      <th>Random Forest Regressor</th>\n",
       "      <td>1501.264</td>\n",
       "      <td>1456.93</td>\n",
       "      <td>2235.65</td>\n",
       "    </tr>\n",
       "    <tr>\n",
       "      <th>XGBRegressor</th>\n",
       "      <td>2986.090</td>\n",
       "      <td>1482.94</td>\n",
       "      <td>228.60</td>\n",
       "    </tr>\n",
       "    <tr>\n",
       "      <th>Decision Tree Regressor</th>\n",
       "      <td>1775.312</td>\n",
       "      <td>1698.79</td>\n",
       "      <td>81.81</td>\n",
       "    </tr>\n",
       "    <tr>\n",
       "      <th>Stochastic Gradient Descent Regressor</th>\n",
       "      <td>2337.690</td>\n",
       "      <td>2301.41</td>\n",
       "      <td>647.55</td>\n",
       "    </tr>\n",
       "    <tr>\n",
       "      <th>LinearRegression</th>\n",
       "      <td>2300.130</td>\n",
       "      <td>2332.56</td>\n",
       "      <td>8.79</td>\n",
       "    </tr>\n",
       "  </tbody>\n",
       "</table>\n",
       "</div>"
      ],
      "text/plain": [
       "                                       RMSE Train  RMSE Test     Time\n",
       "CatBoostRegressor                        1410.770    1404.32   455.80\n",
       "LGBMRegressor                            1425.560    1412.12     6.17\n",
       "Random Forest Regressor                  1501.264    1456.93  2235.65\n",
       "XGBRegressor                             2986.090    1482.94   228.60\n",
       "Decision Tree Regressor                  1775.312    1698.79    81.81\n",
       "Stochastic Gradient Descent Regressor    2337.690    2301.41   647.55\n",
       "LinearRegression                         2300.130    2332.56     8.79"
      ]
     },
     "metadata": {},
     "output_type": "display_data"
    }
   ],
   "source": [
    "#Create DataFrame from scores.\n",
    "mydicts = [dict_training_scores, dict_test_scores, dict_time]\n",
    "final_scores = pd.concat([pd.Series(d) for d in mydicts], axis=1)\n",
    "final_scores.columns = ['RMSE Train', \"RMSE Test\", \"Time\"]\n",
    "final_scores.sort_values('RMSE Test', ascending=True, inplace=True)\n",
    "\n",
    "#Display final scores.\n",
    "display(final_scores)"
   ]
  },
  {
   "cell_type": "markdown",
   "metadata": {},
   "source": [
    "As we can see from the above DataFrame, the model that provided the best RMSE score for the test dataset is the CatBoostRegressor model. This model performed far better than the sanity model, which was simply based on linear regression, and was relatively quick. By far the worst performing models, with regard to the test dataset RMSE score, are LinearRegression and Stochastic Gradient Descent Regressor; both of these models proved to be quite poor, and the latter took over 10 minutes to train using various hyperparameters."
   ]
  },
  {
   "cell_type": "markdown",
   "metadata": {},
   "source": [
    "## Conclusion"
   ]
  },
  {
   "cell_type": "markdown",
   "metadata": {},
   "source": [
    "The overall aim of this project was to build a model that is adept at predicting a vehicle's price based on various hyperparameters. Rusty Bargain wanted a model that is not only reliable, but also quick. Before building any models, we made sure to preprocess the data, which involved deleting anomalies and outliers, deleting duplicates, and changing data types.\n",
    "\n",
    "To build models, first created a class that conducts cross validation using GridSearchCV while tuning hyperparameters; we only used this class for training Sklean models. For gradient boosting models, we manually tuned hyperparameters in order to avoid any possible complications that may result from the utilization of their relevant libraries with Sklearn's GridSearchCV.\n",
    "\n",
    "As we saw in the above DataFrame, the model that performed the best was the CatBoostRegressor model; not only did it offer the best RMSE score, but it also only took 8 minutes to train. That being said, in training the model we manually iterated through 9 different values for 'learning_rate', which resulted in the cell requiring more time to complete the process; if we divide the amount of time it took to iterate through hyperparameters by the number of parameters tested, we find that CatBoostRegressor took under 1 minute to fit the model.\n",
    "\n",
    "It's interesting to note that not far from CatBoostRegressor is the LGBMRegressor. This algorithm produces scores slightly higher than CatBoostRegressor, yet the model training time was less than 6 seconds. \n",
    "\n",
    "After building and testing various models, we would like to offer the following recommendations to Rusty Bargain:\n",
    "\n",
    "    1) If the accuracy or predictions is far more important than algorithm speed, then it would be best to select the CatBoostRegressor model for predicting vehicle prices. The model is relatively quick and provides the best RMSE scores of all the models tested.\n",
    "\n",
    "    2) If the speed of an algorithm is quite important, second to accuracy, then the LGBMRegressor model would be best to select. While the model didn't provide the best scores, they were very close to the CatBoostRegressor scores. Moreover, the time it took to train the algorithm was far lower than the time it took to train the CatBoostRegressor algorithm, even though we iterated through various learning_rate values.\n",
    "\n",
    "We believe that whichever of the abovementioned models is chosen, Rusty Bargain will be happy with the outcome."
   ]
  }
 ],
 "metadata": {
  "kernelspec": {
   "display_name": "Python 3",
   "language": "python",
   "name": "python3"
  },
  "language_info": {
   "codemirror_mode": {
    "name": "ipython",
    "version": 3
   },
   "file_extension": ".py",
   "mimetype": "text/x-python",
   "name": "python",
   "nbconvert_exporter": "python",
   "pygments_lexer": "ipython3",
   "version": "3.8.5"
  },
  "toc": {
   "base_numbering": "1",
   "nav_menu": {},
   "number_sections": true,
   "sideBar": true,
   "skip_h1_title": true,
   "title_cell": "Table of Contents",
   "title_sidebar": "Contents",
   "toc_cell": false,
   "toc_position": {},
   "toc_section_display": true,
   "toc_window_display": false
  }
 },
 "nbformat": 4,
 "nbformat_minor": 4
}
